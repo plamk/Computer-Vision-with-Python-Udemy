{
 "cells": [
  {
   "cell_type": "code",
   "execution_count": 10,
   "metadata": {},
   "outputs": [],
   "source": [
    "#How we can connect a camara\n",
    "import cv2\n",
    "#default cam conected to the computer\n",
    "cap = cv2.VideoCapture(0)\n",
    "\n",
    "#Grab the default camara, we need the width and the height\n",
    "width = int(cap.get(cv2.CAP_PROP_FRAME_WIDTH))#1080.0, we neet transfotm to int\n",
    "height = int(cap.get(cv2.CAP_PROP_FRAME_HEIGHT))\n",
    "frameCount = int(cap.get(cv2.CAP_PROP_FRAME_COUNT))\n",
    "\n",
    "# WINDOWS ---------- *'DIVX'\n",
    "# MACOS or LINUX --- *'XVID'\n",
    "writer = cv2.VideoWriter('../../My-Solutions/S03-Video-Basics/demos/mysupervideo.mp4', cv2.VideoWriter_fourcc(*'DIVX'),30,(width,height) )\n",
    "#display the image... ret,frame is a tupla\n",
    "while True:\n",
    "    ret, frame = cap.read()\n",
    "    \n",
    "    # OPERATIONS\n",
    "    writer.write(frame)\n",
    "    #gray = cv2.cvtColor(frame,cv2.COLOR_BGR2GRAY)\n",
    "\n",
    "    cv2.imshow('Mi video', frame)\n",
    "\n",
    "    if cv2.waitKey(1) & 0xFF == ord('q'):\n",
    "        break\n",
    "\n",
    "cap.release()\n",
    "writer.release()\n",
    "cv2.destroyAllWindows()\n"
   ]
  }
 ],
 "metadata": {
  "kernelspec": {
   "display_name": "Python 3",
   "language": "python",
   "name": "python3"
  },
  "language_info": {
   "codemirror_mode": {
    "name": "ipython",
    "version": 3
   },
   "file_extension": ".py",
   "mimetype": "text/x-python",
   "name": "python",
   "nbconvert_exporter": "python",
   "pygments_lexer": "ipython3",
   "version": "3.6.6"
  },
  "orig_nbformat": 4,
  "vscode": {
   "interpreter": {
    "hash": "e2de187e2ac018b1966125b89a9965710f2e135e980700bc64d2907d990fa000"
   }
  }
 },
 "nbformat": 4,
 "nbformat_minor": 2
}
