{
 "cells": [
  {
   "attachments": {},
   "cell_type": "markdown",
   "metadata": {},
   "source": [
    "# Dense Optical Flow in OpenCV"
   ]
  },
  {
   "cell_type": "code",
   "execution_count": 5,
   "metadata": {},
   "outputs": [],
   "source": [
    "import numpy as np\n",
    "import cv2"
   ]
  },
  {
   "cell_type": "code",
   "execution_count": 6,
   "metadata": {},
   "outputs": [],
   "source": [
    "\n",
    "# Set up the video capture, 0 (we're going to streaming this directly from my USP camara)\n",
    "cap = cv2.VideoCapture(0)\n",
    "\n",
    "# Grab the first frame and read it\n",
    "ret , frame1 = cap.read()\n",
    "\n",
    "prevImg = cv2.cvtColor(frame1,cv2.COLOR_BGR2GRAY)\n",
    "\n",
    "# Hue Saturation Value\n",
    "hsvMask = np.zeros_like(frame1)\n",
    "hsvMask[:,:,1] = 255\n",
    "\n",
    "while True:\n",
    "\n",
    "    # current frame\n",
    "    ret, frame2 = cap.read()\n",
    "    nextImg = cv2.cvtColor(frame2,cv2.COLOR_BGR2GRAY)\n",
    "\n",
    "    # calculate the optical flow -> (prev,next,flow,pyr_scale,levels,winsize,iterations,poly_n,poly_sigma,flags)\n",
    "    flow = cv2.calcOpticalFlowFarneback(prevImg,nextImg,None,0.5, 3, 15, 3, 5, 1.2, 0)\n",
    "\n",
    "    mag, ang = cv2.cartToPolar(flow[:,:,0],flow[:,:,1], angleInDegrees=True )\n",
    "    hsvMask[:,:,0] = ang/2\n",
    "    hsvMask[:,:,2] = cv2.normalize(mag,None,0,255,cv2.NORM_MINMAX)\n",
    "\n",
    "    # Convert back to BGR to show with imshow from cv\n",
    "    bgr = cv2.cvtColor(hsvMask,cv2.COLOR_HSV2BGR)\n",
    "    cv2.imshow('Frame',bgr)\n",
    "    \n",
    "    k = cv2.waitKey(30) & 0xff\n",
    "    if k == 27:\n",
    "        break\n",
    "    \n",
    "    # Set the Previous image as the next iamge for the loop\n",
    "    prvsImg = nextImg\n",
    "\n",
    "    \n",
    "cap.release()\n",
    "cv2.destroyAllWindows()\n"
   ]
  }
 ],
 "metadata": {
  "kernelspec": {
   "display_name": "cvcourse_windows",
   "language": "python",
   "name": "python3"
  },
  "language_info": {
   "codemirror_mode": {
    "name": "ipython",
    "version": 3
   },
   "file_extension": ".py",
   "mimetype": "text/x-python",
   "name": "python",
   "nbconvert_exporter": "python",
   "pygments_lexer": "ipython3",
   "version": "3.6.6"
  },
  "orig_nbformat": 4
 },
 "nbformat": 4,
 "nbformat_minor": 2
}
