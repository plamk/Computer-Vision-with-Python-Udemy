{
 "cells": [
  {
   "cell_type": "code",
   "execution_count": 3,
   "metadata": {},
   "outputs": [],
   "source": [
    "import numpy as np\n",
    "import cv2 "
   ]
  },
  {
   "cell_type": "code",
   "execution_count": 14,
   "metadata": {},
   "outputs": [],
   "source": [
    "# ShiTomasi corner detection\n",
    "corner_track_par = dict(maxCorners=15,qualityLevel=0.3,\n",
    "                        minDistance=7, blockSize=7)"
   ]
  },
  {
   "cell_type": "code",
   "execution_count": 13,
   "metadata": {},
   "outputs": [],
   "source": [
    "# Parameters for lucas kanade optical flow\n",
    "lk_params = dict(winSize=(200,200),maxLevel=2, criteria=(cv2.TERM_CRITERIA_EPS | cv2.TERM_CRITERIA_COUNT,10,0.03))"
   ]
  },
  {
   "cell_type": "code",
   "execution_count": 22,
   "metadata": {},
   "outputs": [],
   "source": [
    "# Capture the video\n",
    "cap = cv2.VideoCapture(0)\n",
    "\n",
    "# We need the first frame of the stream\n",
    "ret, prev_frame = cap.read()\n",
    "\n",
    "# aplly gray scale to the first frame\n",
    "prev_gray =cv2.cvtColor(prev_frame,cv2.COLOR_BGR2GRAY)\n",
    "\n",
    "# previous point to track, grabbing the corners\n",
    "prevPts = cv2.goodFeaturesToTrack(prev_gray, mask=None, **corner_track_par)\n",
    "\n",
    "# Create a matching mask of the previous frame for drawing on later\n",
    "mask =np.zeros_like(prev_frame)\n",
    "\n",
    "while True:\n",
    "\n",
    "    # Now we need a Current frame\n",
    "    ret, frame = cap.read()\n",
    "\n",
    "    # apply gray scale to current frame\n",
    "    frame_gray = cv2.cvtColor(frame,cv2.COLOR_BGR2GRAY)\n",
    "\n",
    "    # Calculate the Optical Flow on the Gray Scale Frame !!!\n",
    "    nextPts, status, err = cv2.calcOpticalFlowPyrLK(prev_gray, frame_gray, prevPts, None,**lk_params)\n",
    "\n",
    "    good_new = nextPts[status==1]\n",
    "    good_prev = prevPts[status==1]\n",
    "\n",
    "    # Use ravel to get points to draw lines and circles\n",
    "    for i, (new,prev) in enumerate(zip(good_new,good_prev)):\n",
    "\n",
    "        x_new, y_new = new.ravel()\n",
    "        x_prev, y_prev = prev.ravel()\n",
    "\n",
    "        #Draw lines using eprevious frames\n",
    "        mask = cv2.line(mask,(x_new,y_new),(x_prev,y_prev),(0,255,0),3)\n",
    "\n",
    "        #Draw red circles using the mask created from the current frame\n",
    "        frame = cv2.circle(frame, (x_new,y_new),8,(255,0,0),-1)\n",
    "\n",
    "    img = cv2.add(frame,mask)\n",
    "    cv2.imshow('traking',img)\n",
    "\n",
    "    k = cv2.waitKey(30) & 0xFF\n",
    "    if k == 27:\n",
    "        break\n",
    "\n",
    "    # Update the previous frame and previous points\n",
    "    prev_gray = frame_gray.copy()\n",
    "    prevPts = good_new.reshape(-1,1,2)\n",
    "\n",
    "cv2.destroyAllWindows()\n",
    "cap.release()"
   ]
  }
 ],
 "metadata": {
  "kernelspec": {
   "display_name": "cvcourse_windows",
   "language": "python",
   "name": "python3"
  },
  "language_info": {
   "codemirror_mode": {
    "name": "ipython",
    "version": 3
   },
   "file_extension": ".py",
   "mimetype": "text/x-python",
   "name": "python",
   "nbconvert_exporter": "python",
   "pygments_lexer": "ipython3",
   "version": "3.6.6"
  },
  "orig_nbformat": 4
 },
 "nbformat": 4,
 "nbformat_minor": 2
}
