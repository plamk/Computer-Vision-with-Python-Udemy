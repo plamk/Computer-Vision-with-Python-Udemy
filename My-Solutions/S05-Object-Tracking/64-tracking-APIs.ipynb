{
 "cells": [
  {
   "cell_type": "code",
   "execution_count": 1,
   "metadata": {},
   "outputs": [],
   "source": [
    "import cv2"
   ]
  },
  {
   "cell_type": "code",
   "execution_count": 2,
   "metadata": {},
   "outputs": [],
   "source": [
    "def ask_for_tracker():\n",
    "    print(\"Bienvenido! Qué Tracker API te gustaría utilizar\" )\n",
    "    print(\"Enter 0 for BOOSTING: \")\n",
    "    print(\"Enter 1 for MIL: \")\n",
    "    print(\"Enter 2 for KCF: \")\n",
    "    print(\"Enter 3 for TLD: \")\n",
    "    print(\"Enter 4 for MEDIANFLOW: \")\n",
    "    choice = input(\"Please select ypur tracker:\")\n",
    "\n",
    "    if choice == '0':\n",
    "        tracker = cv2.TrackerBoosting_create()\n",
    "    if choice == '1':\n",
    "        tracker =  cv2.TrackerMIL_create()\n",
    "    if choice == '2':\n",
    "        tracker = cv2.TrackerKCF_create()\n",
    "    if choice == '3':\n",
    "        tracker = cv2.TrackerTLD_create()\n",
    "    if choice == \"4\":\n",
    "        tracker = cv2.TrackerMedianFlow_create()\n",
    "\n",
    "    return tracker"
   ]
  },
  {
   "cell_type": "code",
   "execution_count": 5,
   "metadata": {},
   "outputs": [
    {
     "name": "stdout",
     "output_type": "stream",
     "text": [
      "Bienvenido! Qué Tracker API te gustaría utilizar\n",
      "Enter 0 for BOOSTING: \n",
      "Enter 1 for MIL: \n",
      "Enter 2 for KCF: \n",
      "Enter 3 for TLD: \n",
      "Enter 4 for MEDIANFLOW: \n"
     ]
    }
   ],
   "source": [
    "tracker = ask_for_tracker()"
   ]
  },
  {
   "cell_type": "code",
   "execution_count": 5,
   "metadata": {},
   "outputs": [
    {
     "data": {
      "text/plain": [
       "<TrackerMedianFlow 00000270179E6470>"
      ]
     },
     "execution_count": 5,
     "metadata": {},
     "output_type": "execute_result"
    }
   ],
   "source": [
    "tracker"
   ]
  },
  {
   "cell_type": "code",
   "execution_count": 6,
   "metadata": {},
   "outputs": [
    {
     "data": {
      "text/plain": [
       "'TrackerMedianFlow'"
      ]
     },
     "execution_count": 6,
     "metadata": {},
     "output_type": "execute_result"
    }
   ],
   "source": [
    "str(tracker).split()[0][1:]"
   ]
  },
  {
   "cell_type": "code",
   "execution_count": 5,
   "metadata": {},
   "outputs": [
    {
     "name": "stdout",
     "output_type": "stream",
     "text": [
      "Bienvenido! Qué Tracker API te gustaría utilizar\n",
      "Enter 0 for BOOSTING: \n",
      "Enter 1 for MIL: \n",
      "Enter 2 for KCF: \n",
      "Enter 3 for TLD: \n",
      "Enter 4 for MEDIANFLOW: \n"
     ]
    }
   ],
   "source": [
    "tracker = ask_for_tracker()\n",
    "tracker_name = str(tracker).split()[0][1:]\n",
    "\n",
    "#Read video\n",
    "cap = cv2.VideoCapture(0)\n",
    "\n",
    "#Read first frame\n",
    "ret, frame = cap.read()\n",
    "\n",
    "#Special function allows us to draw on the very first frame our desured ROI\n",
    "roi = cv2.selectROI(frame, False)\n",
    "\n",
    "#Initialize tracker with first frame and bounding box\n",
    "ret = tracker.init(frame, roi)\n",
    "\n",
    "while True:\n",
    "    #Read a new frame\n",
    "    ret, frame = cap.read()\n",
    "\n",
    "    #Update tracker \n",
    "    success, roi = tracker.update(frame)\n",
    "\n",
    "    # roi variable is a tuple of 4 floats\n",
    "    # We need each value and we them as integers\n",
    "    (x,y,w,h) = tuple(map(int,roi))\n",
    "\n",
    "    # Draw tringle as Tracker moves\n",
    "    if success:\n",
    "        #Tracking success\n",
    "        p1 = (x,y)\n",
    "        p2 = (x+w,y+h)\n",
    "        cv2.rectangle(frame,p1,p2,(0,255,0),3)\n",
    "    else :\n",
    "        # Tracking failure\n",
    "        cv2.putText(frame,\"Fallo en la Detección de Rastreator!!\",(100,200), cv2.FONT_HERSHEY_SIMPLEX, 1, (0,255,0),3)\n",
    "    \n",
    "    # display tracker type on frame\n",
    "    cv2.putText(frame,tracker_name,(20,400), cv2.FONT_HERSHEY_SIMPLEX, 1, (0,255,0),3)\n",
    "\n",
    "    cv2.imshow(tracker_name,frame)\n",
    "\n",
    "    # Exit if ESC pressed\n",
    "    k = cv2.waitKey(1) & 0xff\n",
    "    if k == 27 :\n",
    "        break\n",
    "\n",
    "cap.release()\n",
    "cv2.destroyAllWindows()\n"
   ]
  }
 ],
 "metadata": {
  "kernelspec": {
   "display_name": "cvcourse_windows",
   "language": "python",
   "name": "python3"
  },
  "language_info": {
   "codemirror_mode": {
    "name": "ipython",
    "version": 3
   },
   "file_extension": ".py",
   "mimetype": "text/x-python",
   "name": "python",
   "nbconvert_exporter": "python",
   "pygments_lexer": "ipython3",
   "version": "3.6.6"
  },
  "orig_nbformat": 4
 },
 "nbformat": 4,
 "nbformat_minor": 2
}
