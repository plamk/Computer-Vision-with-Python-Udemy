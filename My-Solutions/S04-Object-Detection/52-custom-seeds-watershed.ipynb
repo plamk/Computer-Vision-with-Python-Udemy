{
 "cells": [
  {
   "cell_type": "code",
   "execution_count": 1,
   "metadata": {},
   "outputs": [],
   "source": [
    "import cv2\n",
    "import numpy as np\n",
    "import matplotlib.pyplot as plt\n",
    "%matplotlib inline"
   ]
  },
  {
   "cell_type": "code",
   "execution_count": 2,
   "metadata": {},
   "outputs": [],
   "source": [
    "road = cv2.imread('../../DATA/road_image.jpg')"
   ]
  },
  {
   "cell_type": "code",
   "execution_count": 3,
   "metadata": {},
   "outputs": [],
   "source": [
    "road_copy = np.copy(road)"
   ]
  },
  {
   "cell_type": "code",
   "execution_count": 4,
   "metadata": {},
   "outputs": [],
   "source": [
    "#plt.imshow(road)"
   ]
  },
  {
   "cell_type": "code",
   "execution_count": 5,
   "metadata": {},
   "outputs": [
    {
     "data": {
      "text/plain": [
       "(600, 800)"
      ]
     },
     "execution_count": 5,
     "metadata": {},
     "output_type": "execute_result"
    }
   ],
   "source": [
    "road.shape[:2]"
   ]
  },
  {
   "cell_type": "code",
   "execution_count": 6,
   "metadata": {},
   "outputs": [],
   "source": [
    "marker_img = np.zeros(road.shape[:2],dtype=np.int32)"
   ]
  },
  {
   "cell_type": "code",
   "execution_count": 7,
   "metadata": {},
   "outputs": [],
   "source": [
    "segments = np.zeros(road.shape,dtype=np.uint8)"
   ]
  },
  {
   "cell_type": "code",
   "execution_count": 8,
   "metadata": {},
   "outputs": [
    {
     "data": {
      "text/plain": [
       "(600, 800)"
      ]
     },
     "execution_count": 8,
     "metadata": {},
     "output_type": "execute_result"
    }
   ],
   "source": [
    "marker_img.shape"
   ]
  },
  {
   "cell_type": "code",
   "execution_count": 9,
   "metadata": {},
   "outputs": [
    {
     "data": {
      "text/plain": [
       "(600, 800, 3)"
      ]
     },
     "execution_count": 9,
     "metadata": {},
     "output_type": "execute_result"
    }
   ],
   "source": [
    "segments.shape"
   ]
  },
  {
   "cell_type": "code",
   "execution_count": 10,
   "metadata": {},
   "outputs": [],
   "source": [
    "#Color mapping\n",
    "from matplotlib import cm"
   ]
  },
  {
   "cell_type": "code",
   "execution_count": 11,
   "metadata": {},
   "outputs": [
    {
     "data": {
      "text/plain": [
       "(0.12156862745098039, 0.4666666666666667, 0.7058823529411765, 1.0)"
      ]
     },
     "execution_count": 11,
     "metadata": {},
     "output_type": "execute_result"
    }
   ],
   "source": [
    "# It returned Red,Geen,Blue and the alpha paramether [0-255]\n",
    "cm.tab10(0)"
   ]
  },
  {
   "cell_type": "code",
   "execution_count": 12,
   "metadata": {},
   "outputs": [
    {
     "data": {
      "text/plain": [
       "array([ 31., 119., 180.])"
      ]
     },
     "execution_count": 12,
     "metadata": {},
     "output_type": "execute_result"
    }
   ],
   "source": [
    "#we going to cast this to get the array\n",
    "np.array(cm.tab10(0)[:3])*255"
   ]
  },
  {
   "cell_type": "code",
   "execution_count": 13,
   "metadata": {},
   "outputs": [],
   "source": [
    "def create_rgb(i):\n",
    "    return tuple(np.array(cm.tab10(i)[:3])*255)"
   ]
  },
  {
   "cell_type": "code",
   "execution_count": 14,
   "metadata": {},
   "outputs": [],
   "source": [
    "#color list\n",
    "colors = []\n",
    "for i in range(10):\n",
    "    colors.append(create_rgb(i))"
   ]
  },
  {
   "cell_type": "code",
   "execution_count": 15,
   "metadata": {},
   "outputs": [
    {
     "data": {
      "text/plain": [
       "[(31.0, 119.0, 180.0),\n",
       " (255.0, 127.0, 14.0),\n",
       " (44.0, 160.0, 44.0),\n",
       " (214.0, 39.0, 40.0),\n",
       " (148.0, 103.0, 189.0),\n",
       " (140.0, 86.0, 75.0),\n",
       " (227.0, 119.0, 194.0),\n",
       " (127.0, 127.0, 127.0),\n",
       " (188.0, 189.0, 34.0),\n",
       " (23.0, 190.0, 207.0)]"
      ]
     },
     "execution_count": 15,
     "metadata": {},
     "output_type": "execute_result"
    }
   ],
   "source": [
    "#we get a list of tuples\n",
    "colors"
   ]
  },
  {
   "cell_type": "code",
   "execution_count": 16,
   "metadata": {
    "notebookRunGroups": {
     "groupValue": "1"
    }
   },
   "outputs": [],
   "source": [
    "###\n",
    "# GLOBAL VARIABLES\n",
    "n_markers = 10 # 0..9\n",
    "# Color choice\n",
    "current_marker = 1\n",
    "# Markers updated by Watershed\n",
    "marks_updated = False"
   ]
  },
  {
   "cell_type": "code",
   "execution_count": 17,
   "metadata": {},
   "outputs": [],
   "source": [
    "# CALLBACK FUNCTION\n",
    "\n",
    "def mouse_callback(event,x,y,flags,param):\n",
    "    global marks_updated\n",
    "    \n",
    "    # the person is clicked an it's time to draw the circle\n",
    "    if event == cv2.EVENT_LBUTTONDOWN:\n",
    "        # MARKERS PASSED TO THE WATERSHED ALGORITHM\n",
    "        cv2.circle(marker_img,(x,y),10,(current_marker),-1)\n",
    "\n",
    "        # WHAT TE USER SEES ON THE ROAD IMAGE\n",
    "        cv2.circle(road_copy,(x,y),10,colors[current_marker],-1)\n",
    "\n",
    "        marks_updated = True"
   ]
  },
  {
   "cell_type": "code",
   "execution_count": 18,
   "metadata": {},
   "outputs": [],
   "source": [
    "# WHILE TRUE LOOP\n",
    "cv2.namedWindow('Road Image')\n",
    "cv2.setMouseCallback('Road Image',mouse_callback)\n",
    "\n",
    "while True:\n",
    "\n",
    "    cv2.imshow('Watershed Segments',segments)\n",
    "    cv2.imshow('Road Image',road_copy)\n",
    "\n",
    "    # CLOSE ALL WINDOWS\n",
    "    k = cv2.waitKey(1)\n",
    "    if k == 27:\n",
    "        break\n",
    "\n",
    "    # CLEANING ALL THE COLORS\n",
    "    elif k == ord('c'):\n",
    "        road_copy = road.copy()\n",
    "        marker_img = np.zeros(road.shape[:2],dtype=np.int32)\n",
    "        segments =  np.zeros(road.shape,dtype=np.uint8)\n",
    "\n",
    "    # UPDATE COLOR CHOICE\n",
    "    elif k > 0 and chr(k).isdigit():\n",
    "        current_marker = int(chr(k))\n",
    "\n",
    "    # UPDATE THE MARKERS\n",
    "    if marks_updated:\n",
    "        marker_img_copy = marker_img.copy()\n",
    "        cv2.watershed(road,marker_img_copy)\n",
    "\n",
    "        segments = np.zeros(road.shape,dtype=np.uint8)\n",
    "\n",
    "        for color_i in range(n_markers):\n",
    "            #COLORING SEGMENTS , NUMPY CALL\n",
    "            segments[marker_img_copy==(color_i)] = colors[color_i]\n",
    "\n",
    "cv2.destroyAllWindows()\n",
    "\n",
    "\n"
   ]
  }
 ],
 "metadata": {
  "kernelspec": {
   "display_name": "cvcourse_windows",
   "language": "python",
   "name": "python3"
  },
  "language_info": {
   "codemirror_mode": {
    "name": "ipython",
    "version": 3
   },
   "file_extension": ".py",
   "mimetype": "text/x-python",
   "name": "python",
   "nbconvert_exporter": "python",
   "pygments_lexer": "ipython3",
   "version": "3.6.6"
  },
  "orig_nbformat": 4
 },
 "nbformat": 4,
 "nbformat_minor": 2
}
